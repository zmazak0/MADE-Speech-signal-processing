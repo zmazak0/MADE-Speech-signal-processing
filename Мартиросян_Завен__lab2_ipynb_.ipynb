{
  "nbformat": 4,
  "nbformat_minor": 0,
  "metadata": {
    "colab": {
      "name": "Мартиросян Завен \"lab2.ipynb\"",
      "provenance": [],
      "collapsed_sections": []
    },
    "kernelspec": {
      "display_name": "Python 3",
      "language": "python",
      "name": "python3"
    },
    "language_info": {
      "codemirror_mode": {
        "name": "ipython",
        "version": 3
      },
      "file_extension": ".py",
      "mimetype": "text/x-python",
      "name": "python",
      "nbconvert_exporter": "python",
      "pygments_lexer": "ipython3",
      "version": "3.7.7"
    }
  },
  "cells": [
    {
      "cell_type": "markdown",
      "metadata": {
        "id": "TlOm2P1FgeQ4"
      },
      "source": [
        "# <center> Практические задания по цифровой обработке сигналов </center>\n",
        "# <center> Вторая лабораторная работа </center>\n",
        "# <center> Анализ сигналов </center>"
      ]
    },
    {
      "cell_type": "code",
      "metadata": {
        "id": "mFDG9FMVENc6"
      },
      "source": [
        "import librosa\n",
        "import numpy as np\n",
        "import scipy \n",
        "import scipy.fft\n",
        "import IPython.display as ipd\n",
        "import matplotlib.pyplot as plt\n",
        "import librosa.display\n",
        "import librosa.filters\n",
        "import hashlib\n",
        "\n",
        "# Запретим numpy выполнять деление на 0\n",
        "np.seterr(divide='raise', invalid='raise') \n",
        "%matplotlib inline"
      ],
      "execution_count": 54,
      "outputs": []
    },
    {
      "cell_type": "code",
      "metadata": {
        "id": "FfdH4n8BgeQ6"
      },
      "source": [
        "# Определим две функции для отрисовки сигнала. \n",
        "def draw_waveform(wav, sr, figsize=(14, 5)):\n",
        "    # Отрисовка звукового сигнала во временной области\n",
        "    plt.figure(figsize=figsize)\n",
        "    librosa.display.waveplot(wav, sr=sr)\n",
        "\n",
        "def draw_sig(frames, name=None, figsize=(14, 3)):\n",
        "    # Отрисовка сигнала в виде \"леденцов на палочке\"\n",
        "    plt.figure(figsize=figsize)\n",
        "    plt.stem(frames)\n",
        "    if name is not None:\n",
        "        plt.legend([name])\n",
        "    plt.xlabel(\"n\")\n",
        "    plt.ylabel(\"Energy\")\n",
        "    plt.show()\n",
        "    "
      ],
      "execution_count": 55,
      "outputs": []
    },
    {
      "cell_type": "code",
      "metadata": {
        "id": "-9aeRioXgeQ7"
      },
      "source": [
        "# Создадим несколько простых сигналов. Они нам понадобятся для дальшейшего тестирования\n",
        "signals = {}"
      ],
      "execution_count": 56,
      "outputs": []
    },
    {
      "cell_type": "code",
      "metadata": {
        "id": "lfwHaMgeKTET",
        "colab": {
          "base_uri": "https://localhost:8080/",
          "height": 279
        },
        "outputId": "a3ea5095-4c8e-4091-ebc4-8f6a19aee98d"
      },
      "source": [
        "name = \"Единичный импульс\"\n",
        "signals[name] = np.array([1] + [0]*39, dtype=float)\n",
        "draw_sig(signals[name], name)"
      ],
      "execution_count": 57,
      "outputs": [
        {
          "output_type": "stream",
          "text": [
            "/usr/local/lib/python3.7/dist-packages/ipykernel_launcher.py:10: UserWarning: In Matplotlib 3.3 individual lines on a stem plot will be added as a LineCollection instead of individual lines. This significantly improves the performance of a stem plot. To remove this warning and switch to the new behaviour, set the \"use_line_collection\" keyword argument to True.\n",
            "  # Remove the CWD from sys.path while we load stuff.\n"
          ],
          "name": "stderr"
        },
        {
          "output_type": "display_data",
          "data": {
            "image/png": "[encoded data removed]",
            "text/plain": [
              "<Figure size 1008x216 with 1 Axes>"
            ]
          },
          "metadata": {
            "tags": [],
            "needs_background": "light"
          }
        }
      ]
    },
    {
      "cell_type": "code",
      "metadata": {
        "id": "zy4nyBhBgeQ7",
        "colab": {
          "base_uri": "https://localhost:8080/",
          "height": 279
        },
        "outputId": "6f2edb14-723d-495b-fb13-b0d53db9f489"
      },
      "source": [
        "name = \"Единичный скачок\"\n",
        "signals[name] = np.array([1]*40 ,dtype=float) \n",
        "draw_sig(signals[name], name)"
      ],
      "execution_count": 58,
      "outputs": [
        {
          "output_type": "stream",
          "text": [
            "/usr/local/lib/python3.7/dist-packages/ipykernel_launcher.py:10: UserWarning: In Matplotlib 3.3 individual lines on a stem plot will be added as a LineCollection instead of individual lines. This significantly improves the performance of a stem plot. To remove this warning and switch to the new behaviour, set the \"use_line_collection\" keyword argument to True.\n",
            "  # Remove the CWD from sys.path while we load stuff.\n"
          ],
          "name": "stderr"
        },
        {
          "output_type": "display_data",
          "data": {
            "image/png": "[encoded data removed]",
            "text/plain": [
              "<Figure size 1008x216 with 1 Axes>"
            ]
          },
          "metadata": {
            "tags": [],
            "needs_background": "light"
          }
        }
      ]
    },
    {
      "cell_type": "code",
      "metadata": {
        "id": "fRqROaD4geQ8",
        "colab": {
          "base_uri": "https://localhost:8080/",
          "height": 279
        },
        "outputId": "b5a8c63b-6cc7-44a4-fda2-0752792d6a2f"
      },
      "source": [
        "name = \"Синус\"\n",
        "signals[name] = np.sin(np.pi * np.arange(40)/10)\n",
        "draw_sig(signals[name], name)"
      ],
      "execution_count": 59,
      "outputs": [
        {
          "output_type": "stream",
          "text": [
            "/usr/local/lib/python3.7/dist-packages/ipykernel_launcher.py:10: UserWarning: In Matplotlib 3.3 individual lines on a stem plot will be added as a LineCollection instead of individual lines. This significantly improves the performance of a stem plot. To remove this warning and switch to the new behaviour, set the \"use_line_collection\" keyword argument to True.\n",
            "  # Remove the CWD from sys.path while we load stuff.\n"
          ],
          "name": "stderr"
        },
        {
          "output_type": "display_data",
          "data": {
            "image/png": "[encoded data removed]",
            "text/plain": [
              "<Figure size 1008x216 with 1 Axes>"
            ]
          },
          "metadata": {
            "tags": [],
            "needs_background": "light"
          }
        }
      ]
    },
    {
      "cell_type": "code",
      "metadata": {
        "id": "STJ-6huLgeQ8",
        "colab": {
          "base_uri": "https://localhost:8080/",
          "height": 279
        },
        "outputId": "c7628ef5-b5a0-413a-9cb5-bf9698d55c86"
      },
      "source": [
        "name = \"Шум\"\n",
        "signals[name] = np.random.random(40)-0.5\n",
        "draw_sig(signals[name], name)"
      ],
      "execution_count": 60,
      "outputs": [
        {
          "output_type": "stream",
          "text": [
            "/usr/local/lib/python3.7/dist-packages/ipykernel_launcher.py:10: UserWarning: In Matplotlib 3.3 individual lines on a stem plot will be added as a LineCollection instead of individual lines. This significantly improves the performance of a stem plot. To remove this warning and switch to the new behaviour, set the \"use_line_collection\" keyword argument to True.\n",
            "  # Remove the CWD from sys.path while we load stuff.\n"
          ],
          "name": "stderr"
        },
        {
          "output_type": "display_data",
          "data": {
            "image/png": "[encoded data removed]",
            "text/plain": [
              "<Figure size 1008x216 with 1 Axes>"
            ]
          },
          "metadata": {
            "tags": [],
            "needs_background": "light"
          }
        }
      ]
    },
    {
      "cell_type": "markdown",
      "metadata": {
        "id": "jjoFFHBHGSA9"
      },
      "source": [
        "-------------------------------\n",
        "# Преобразование Фурье\n",
        "Прежде, чем перейти к анализу сигналов, надо разобраться, что такое преобразование Фурье. \n",
        "> Преобразование Фурье (символ ℱ) — операция, сопоставляющая одной функции вещественной переменной другую функцию вещественной переменной. Эта новая функция описывает коэффициенты («амплитуды») при разложении исходной функции на элементарные составляющие — гармонические колебания с разными частотами (подобно тому, как музыкальный аккорд может быть выражен в виде суммы музыкальных звуков, которые его составляют). [Wiki](https://ru.wikipedia.org/wiki/%D0%9F%D1%80%D0%B5%D0%BE%D0%B1%D1%80%D0%B0%D0%B7%D0%BE%D0%B2%D0%B0%D0%BD%D0%B8%D0%B5_%D0%A4%D1%83%D1%80%D1%8C%D0%B5)\n",
        "\n"
      ]
    },
    {
      "cell_type": "markdown",
      "metadata": {
        "id": "LdB7XWDzJdEl"
      },
      "source": [
        "Формула прямого дискретного преобразования Фурье (ДПФ, Discrete Fourier Transform, DFT)):\n",
        "$$ X_k = \\sum_{n=0}^{N-1} x_n * e^{2i\\pi k n/N} $$\n"
      ]
    },
    {
      "cell_type": "markdown",
      "metadata": {
        "id": "uLwA5-6_geQ9"
      },
      "source": [
        "# Задание 1 (2 балла)\n",
        "Реализовать дискретное преобразование Фурье. Сравнить с реализацией scipy.fft.fft"
      ]
    },
    {
      "cell_type": "code",
      "metadata": {
        "id": "0g99XrYxE6Q_"
      },
      "source": [
        "def iexp(n):\n",
        "    return complex(np.cos(n), np.sin(n))\n",
        "\n",
        "def DFT(x):\n",
        "    n = len(x)\n",
        "    return np.array([sum((x[k] * iexp(-2 * np.pi * i * k / n) for k in range(n)))\n",
        "            for i in range(n)])"
      ],
      "execution_count": 61,
      "outputs": []
    },
    {
      "cell_type": "code",
      "metadata": {
        "id": "k9TBbxMrgeQ9",
        "colab": {
          "base_uri": "https://localhost:8080/"
        },
        "outputId": "c0fd2b24-5d2f-49f2-c3f8-8b6ecfbfa7c4"
      },
      "source": [
        "def test_DTF(x, transform=DFT):\n",
        "    # Сравнение с библиотекой scipy\n",
        "    scipy_result = scipy.fft.fft(x)\n",
        "    curr_result = transform(x)\n",
        "    if scipy_result.shape != curr_result.shape:\n",
        "        print(\"TEST_FAILED\")\n",
        "        print(f\"Your spectrogram shape is {curr_result.shape}. \"\n",
        "              f\"Scipy spectrogram shape is {scipy_result.shape}\")\n",
        "        return -1\n",
        "    if not np.allclose(curr_result, scipy_result):\n",
        "        print(\"TEST FAILED\")\n",
        "        print(f\"scipy spectrogram: {scipy_result}\")\n",
        "        print(f\"Your DTF spectrogram: {curr_result}\")\n",
        "        print(f\"Average diff is {np.mean(np.abs(scipy_result - curr_result))}\")\n",
        "        return -2\n",
        "    print(\"TEST PASSED\")\n",
        "    return 0\n",
        "\n",
        "for name, sig in signals.items():\n",
        "    print(f\"Checking '{name}'\")\n",
        "    assert test_DTF(sig) == 0, \"Check you implementation\"\n",
        "print(\"All ok!\")"
      ],
      "execution_count": 62,
      "outputs": [
        {
          "output_type": "stream",
          "text": [
            "Checking 'Единичный импульс'\n",
            "TEST PASSED\n",
            "Checking 'Единичный скачок'\n",
            "TEST PASSED\n",
            "Checking 'Синус'\n",
            "TEST PASSED\n",
            "Checking 'Шум'\n",
            "TEST PASSED\n",
            "All ok!\n"
          ],
          "name": "stdout"
        }
      ]
    },
    {
      "cell_type": "markdown",
      "metadata": {
        "id": "3XtDK1HageQ9"
      },
      "source": [
        "Класическое ДПФ имеет существенный недостаток - сложность алгоритма $O(N^2)$. На данный момент существуют чуть более сложные реализации преобразования Фурье, которые избавляются от квадратичной сложности. Например, алгоритм быстрого преобразования Фурье (Fast Fourier Transform, FFT) имеет сложность $O(N log(N))$, что делает его значительно более быстрым на длинных последовательностях. "
      ]
    },
    {
      "cell_type": "markdown",
      "metadata": {
        "id": "YOHWDtmpgeQ-"
      },
      "source": [
        "# Задание 1.1* (1 балл)\n",
        "Реализовать быстрое преобразование Фурье. Сравнить с scipy.fft.fft"
      ]
    },
    {
      "cell_type": "code",
      "metadata": {
        "id": "iARh8mDQgeQ-"
      },
      "source": [
        "def FFT(x):\n",
        "    arr = np.asarray(x, dtype=np.complex)\n",
        "    N = arr.shape[0]\n",
        "    if N % 2 > 0:\n",
        "        return DFT(arr)\n",
        "    else:\n",
        "        even_part = FFT(arr[::2])\n",
        "        odd_part = FFT(arr[1::2])\n",
        "        factor = np.exp(-1j * 2 * np.pi * np.arange(N) / N)\n",
        "        return np.concatenate([even_part + factor[: N // 2] * odd_part,\n",
        "                            even_part + factor[N // 2 :] * odd_part])"
      ],
      "execution_count": 63,
      "outputs": []
    },
    {
      "cell_type": "code",
      "metadata": {
        "id": "ZWpBwQatgeQ-",
        "colab": {
          "base_uri": "https://localhost:8080/"
        },
        "outputId": "fbd7f716-6656-42cd-f966-45998dd6b064"
      },
      "source": [
        "for name, sig in signals.items():\n",
        "    print(f\"Checking '{name}'\")\n",
        "    assert test_DTF(sig, transform=FFT) == 0, \"Check you implementation\"\n",
        "print(\"All ok!\")"
      ],
      "execution_count": 64,
      "outputs": [
        {
          "output_type": "stream",
          "text": [
            "Checking 'Единичный импульс'\n",
            "TEST PASSED\n",
            "Checking 'Единичный скачок'\n",
            "TEST PASSED\n",
            "Checking 'Синус'\n",
            "TEST PASSED\n",
            "Checking 'Шум'\n",
            "TEST PASSED\n",
            "All ok!\n"
          ],
          "name": "stdout"
        }
      ]
    },
    {
      "cell_type": "markdown",
      "metadata": {
        "id": "MAyLjLHMgeQ-"
      },
      "source": [
        "# Амплитудный и фазовый спектры\n",
        "Поскольку преобразование Фурье определено в комплекстной области, анализировать результат напрямую проблематично. Для анализа сигналов принято разбивать результат преобразования Фурье на два спектра: амплитудный и фазовый. Амплитудный показывает, как меняется модуль сигнала, а фазовый - как меняется угол, образуемый на комплексной плоскости. \n",
        "# Задание 2 (1 балл)\n",
        "\n",
        "Реализовать функции построения амплитудного и фазового спектра"
      ]
    },
    {
      "cell_type": "code",
      "metadata": {
        "colab": {
          "base_uri": "https://localhost:8080/"
        },
        "id": "0bJXh_Tr5wAp",
        "outputId": "1ddf68a2-1a2f-40d5-c1cc-cbcb91c729cb"
      },
      "source": [
        "print(scipy.fft.fft(np.array([1]+[0]*10)))\r\n",
        "print(np.array([1]+[0]*10))"
      ],
      "execution_count": 68,
      "outputs": [
        {
          "output_type": "stream",
          "text": [
            "[1.-0.j 1.+0.j 1.+0.j 1.+0.j 1.+0.j 1.+0.j 1.-0.j 1.-0.j 1.-0.j 1.-0.j\n",
            " 1.-0.j]\n",
            "[1 0 0 0 0 0 0 0 0 0 0]\n"
          ],
          "name": "stdout"
        }
      ]
    },
    {
      "cell_type": "code",
      "metadata": {
        "id": "VjbDCg2ageQ_"
      },
      "source": [
        "#функция построения амплитудного спектра\n",
        "def get_amplitude_from_spec(spec):\n",
        "    return np.absolute(spec)\n",
        "\n",
        "#функция построения фазового спектра\n",
        "def get_phi_from_spec(spec):\n",
        "    return np.angle(spec)"
      ],
      "execution_count": 71,
      "outputs": []
    },
    {
      "cell_type": "code",
      "metadata": {
        "id": "6FTedyyAgeQ_",
        "colab": {
          "base_uri": "https://localhost:8080/"
        },
        "outputId": "0e8a5f60-8c97-4a97-ac45-3c0c58c77ee3"
      },
      "source": [
        "def check_mean_var(sig, mean=None, var=None):\n",
        "    if mean is not None and np.mean(sig) != mean:\n",
        "        print(f\"Bad mean. Expected {mean}, got {np.mean(sig)}\")\n",
        "        return False\n",
        "    if var is not None and np.var(sig) != var:\n",
        "        print(f\"Bad var. Expected {var}, got {np.var(sig)}\")\n",
        "        return False\n",
        "    return True\n",
        "\n",
        "_spec = scipy.fft.fft(np.array([1]+[0]*10))\n",
        "assert check_mean_var(get_amplitude_from_spec(_spec), 1.0, 0.0), \\\n",
        "    \"Wrong Amplitude\"\n",
        "assert check_mean_var(get_phi_from_spec(_spec), 0.0, 0.0), \\\n",
        "    \"Wrong Phase\"\n",
        "\n",
        "    \n",
        "_spec = scipy.fft.fft(np.array([1]*10))\n",
        "assert check_mean_var(get_amplitude_from_spec(_spec), 1.0, 9.0), \\\n",
        "    \"Wrong  Amplitude\"\n",
        "assert get_amplitude_from_spec(_spec)[0] == 10, \\\n",
        "    \"Wrong Amplitude\"\n",
        "assert get_phi_from_spec(_spec)[0] == 0, \\\n",
        "    \"Wrong phase\"\n",
        "\n",
        "_spec = scipy.fft.fft(scipy.fft.ifft(np.array([0] + [10+5j]+[0]*6 + [10-5j])))\n",
        "assert get_amplitude_from_spec(_spec).round(1)[1] == 11.2 , \\\n",
        "    \"Wrong Amplitude. Make sure it is a complex number module.\"\n",
        "assert get_phi_from_spec(_spec).round(1)[1] == 0.5 , \\\n",
        "    \"Wrong Amplitude. Make sure it is an angle.\"\n",
        "\n",
        "   \n",
        "print(\"All OK!\")"
      ],
      "execution_count": 72,
      "outputs": [
        {
          "output_type": "stream",
          "text": [
            "All OK!\n"
          ],
          "name": "stdout"
        }
      ]
    },
    {
      "cell_type": "code",
      "metadata": {
        "id": "UzP35_vFgeQ_"
      },
      "source": [
        "# Определим еще одну функцию для отрисовки\n",
        "# Теперь будем рисовать сигнал в частотной области\n",
        "def draw_spec(spec, name=None, draw_A=True, draw_p=True, figsize=(14, 3)):\n",
        "    if len(spec)<100:\n",
        "        # Рисуем точки как \"леденцы на палочках\"\n",
        "        draw_func = plt.stem\n",
        "    else:\n",
        "        # При большом N \"леденцы\" выглядят плохо, \n",
        "        # Поэтому будем рисовать огибающую функцию\n",
        "        draw_func = plt.plot\n",
        "    \n",
        "    if draw_A:\n",
        "        plt.figure(figsize=figsize)\n",
        "        plt.title(\"Amplitude spectrum\")\n",
        "        spec_A = get_amplitude_from_spec(spec)\n",
        "        draw_func(spec_A)\n",
        "        plt.ylabel(\"Magnitude\")\n",
        "        plt.xlabel(\"n\")\n",
        "        if name is not None:\n",
        "            plt.legend([name])\n",
        "        plt.show()\n",
        "        \n",
        "    if draw_p:\n",
        "        plt.figure(figsize=figsize)\n",
        "        plt.title(\"Phase spectrum\")\n",
        "        phi = get_phi_from_spec(spec)\n",
        "        draw_func(phi)\n",
        "        plt.ylabel(\"Radian\")\n",
        "        plt.xlabel(\"n\")\n",
        "        if name is not None:\n",
        "            plt.legend([name])\n",
        "        plt.show()\n",
        "    return "
      ],
      "execution_count": 73,
      "outputs": []
    },
    {
      "cell_type": "markdown",
      "metadata": {
        "id": "DR9k7Z0ygeQ_"
      },
      "source": [
        "# Задание 2.1 (0.5 балла)\n",
        "Постройте спектры для всех сигналов из коллекции signals и ответьте на вопросы:\n",
        "1. Почему амплитуда всех гармоник единичного импульса равна единице? \n",
        "1. Какие выводы можно сделать смотря на амплитудный спектр? А на фазовый? \n",
        "1. Как перевести номер отсчета в частоту?  \n",
        "1. Что в фазовом спектре является полезной информацией, а что - шумом? Почему?"
      ]
    },
    {
      "cell_type": "markdown",
      "metadata": {
        "id": "1crn_yw1geRA"
      },
      "source": [
        "1. -\n",
        "2. -\n",
        "3. -\n",
        "4. -"
      ]
    },
    {
      "cell_type": "markdown",
      "metadata": {
        "id": "PDEH-_K5geRA"
      },
      "source": [
        "# Оконное преобразование Фурье\n",
        "Преобразование Фурье делает переход из временной области в частотную, позволяя анализировать составляющие сигнал гармоники. Однако это не всегда удобно. В реальных сигналах зачастую составляющие их гармоники изменяются со временем. Например, каждая буква в слове имеет свой набор основных гармоник, и простое преобразование Фурье не сильно поможет нам определить, что было сказано. Для того, чтобы анализировать такие сигналы, обычно используется [Оконное преобразование Фурье](https://ru.wikipedia.org/wiki/Оконное_преобразование_Фурье). Такое преобразование позволяет анализировать гармоники сигнала в коротких промежутках времени и сохранить временную ось при построении спектрограммы.\n",
        "# Задание 3 (2 балла)\n",
        "Реализовать оконное преобразование Фурье, пользуясь только библиотеками numpy и scipy. Сравнить с librosa.stft\n"
      ]
    },
    {
      "cell_type": "code",
      "metadata": {
        "id": "MGUlhpmegeRA"
      },
      "source": [
        "def STFT(x, n_fft=2048, hop_length=512, window='hann'):\n",
        "    #  Short-time Fourier transform\n",
        "    # x - signal\n",
        "    # n_fft - fft window size \n",
        "    # hop_length - step size between ffts\n",
        "    # window - window type. See scipy.signal.get_window\n",
        "    # return spectrogram \n",
        "    \n",
        "    # YOUR CODE HERE\n",
        "    \n",
        "    #\n",
        "    raise NotImplementedError()\n",
        "    "
      ],
      "execution_count": null,
      "outputs": []
    },
    {
      "cell_type": "code",
      "metadata": {
        "id": "jllkqRoCgeRB"
      },
      "source": [
        "def test_stft(x, n_fft=2048, hop_length=512, window='hann'):\n",
        "    librosa_result = librosa.stft(x, n_fft=n_fft, hop_length=hop_length, window='hann', center=True)\n",
        "    result = STFT(x, n_fft=n_fft, hop_length=hop_length, window='hann')\n",
        "    if librosa_result.shape != result.shape:\n",
        "        print(f\"Your shape {result.shape} != librosa stft shape {librosa_result.shape} \")\n",
        "        return -1 \n",
        "    if not np.allclose(librosa_result, result):\n",
        "        print(f\"Wrong results. Diff {np.abs(librosa_result-result)}\")\n",
        "        return -2\n",
        "    return 0\n",
        "        \n",
        "for name, sig in signals.items():\n",
        "    print(f\"Checking '{name}'\")\n",
        "    for n_fft in (8, 4):\n",
        "        for hop_length in (n_fft//4, n_fft//2):\n",
        "            assert test_stft(sig, n_fft=n_fft, hop_length=hop_length)==0, \\\n",
        "                f\"Test failed. Params n_fft {n_fft}. Hop_length {hop_length}\"\n",
        "    print(\"ok\")\n",
        "print(\"All ok!\")"
      ],
      "execution_count": null,
      "outputs": []
    },
    {
      "cell_type": "code",
      "metadata": {
        "id": "uvcFimkKgeRB"
      },
      "source": [
        "# Определим функцию для отрисовки\n",
        "def draw_stft(X, sr, figsize=(14, 5)):\n",
        "    plt.figure(figsize=figsize)\n",
        "    # X - комплекстная спектрограмма \n",
        "    # Для получения энергии достаточно взять модуль\n",
        "    Xdb = librosa.amplitude_to_db(abs(X))\n",
        "    librosa.display.specshow(Xdb, sr=sr, x_axis='time', y_axis='hz')\n",
        "    plt.show()"
      ],
      "execution_count": null,
      "outputs": []
    },
    {
      "cell_type": "markdown",
      "metadata": {
        "id": "uMtxERVNgeRC"
      },
      "source": [
        "# Анализ сигналов\n",
        "Теперь можно приступить к анализу звуковых сигналов.\n",
        "Во время анализа сигналов нам понадобятся все определенные выше инструменты. \n"
      ]
    },
    {
      "cell_type": "markdown",
      "metadata": {
        "id": "NI3xH_vXgeRC"
      },
      "source": [
        "----------------------------------\n",
        "## Анализ паровозного гудка\n",
        "Начнем с простого сигнала, состоящего из нескольких основных гармоник и шума."
      ]
    },
    {
      "cell_type": "code",
      "metadata": {
        "id": "skOdgydLgeRC"
      },
      "source": [
        "# Загрузим аудио файл с паровозным гудком\n",
        "train_whistle, tw_sr = librosa.core.load(\"resources/train_whistle.wav\")\n",
        "print(f\"Len is {len(train_whistle)} ( ). Sample rate is {tw_sr}\")\n",
        "player = ipd.Audio(train_whistle, rate=tw_sr)\n",
        "ipd.display(player)\n",
        "draw_waveform(train_whistle, sr=tw_sr)"
      ],
      "execution_count": null,
      "outputs": []
    },
    {
      "cell_type": "code",
      "metadata": {
        "id": "unK4brXjgeRD"
      },
      "source": [
        "train_whistle_spec = scipy.fft.fft(train_whistle)\n",
        "print(\"Гудок паровоза в частотной области\")\n",
        "draw_spec(train_whistle_spec, draw_p=False, figsize=(15,5))"
      ],
      "execution_count": null,
      "outputs": []
    },
    {
      "cell_type": "markdown",
      "metadata": {
        "id": "XmBdpTz3geRD"
      },
      "source": [
        "# Задание 4 (2 балла)\n",
        "Определите 3 основные гармоники паровозного гудка.\n",
        "\n",
        "Ответ округлите до двух знаков после запятой.\n"
      ]
    },
    {
      "cell_type": "code",
      "metadata": {
        "id": "mbS8_GE5geRD"
      },
      "source": [
        "# YOUR CODE HERE\n",
        "# task_answer = [ freq1, freq2, freq3 ] \n"
      ],
      "execution_count": null,
      "outputs": []
    },
    {
      "cell_type": "code",
      "metadata": {
        "id": "qOglpwIVgeRD"
      },
      "source": [
        "assert type(task_answer) == list or type(task_answer) == np.ndarray, \\\n",
        "        f\"Wrong answer type. Expected list or numpy array. Got {type(task_answer)}\"\n",
        "assert len(task_answer) == 3, \\\n",
        "        f\"Wrong len {len(task_answer)}.\"\n",
        "assert (round(sum(task_answer)) == 1677 and round(np.var(task_answer)) == 1407) or \\\n",
        "        (abs(sum(task_answer)  - 1836) <= 3 and abs(np.var(task_answer) - 10153) <= 181), \\\n",
        "        f\"Wrong freqs\"\n",
        "print(\"Correct!\")       "
      ],
      "execution_count": null,
      "outputs": []
    },
    {
      "cell_type": "markdown",
      "metadata": {
        "id": "wU9NRku3geRE"
      },
      "source": [
        "Теперь попробуйте сгенерировать сигнал, состоящий только из этих гармоник. Воспроизведите сигнал."
      ]
    },
    {
      "cell_type": "code",
      "metadata": {
        "id": "CxI9lUJdgeRE"
      },
      "source": [
        "#YOUR CODE HERE\n",
        "\n",
        "#"
      ],
      "execution_count": null,
      "outputs": []
    },
    {
      "cell_type": "markdown",
      "metadata": {
        "id": "7zWePmLcgeRE"
      },
      "source": [
        "# Анализ двухтонального многочастотного сигнала\n",
        "Теперь расмотрим более сложный сигнал - [DTMF](https://en.wikipedia.org/wiki/Dual-tone_multi-frequency_signaling). Такие сигналы используются для автоматизации набора телефонного номера. "
      ]
    },
    {
      "cell_type": "markdown",
      "metadata": {
        "id": "y3j86x7UgeRE"
      },
      "source": [
        "# Задание 5 (2 балла)\n",
        "В данном аудио закодирован трехзначный номер. Используя таблицу с [wiki]:(https://ru.wikipedia.org/wiki/DTMF) определите, что за номер закодирован.\n"
      ]
    },
    {
      "cell_type": "code",
      "metadata": {
        "id": "V1S6cbwRgeRE"
      },
      "source": [
        "#dtmf.wav\n",
        "dtmf, dtmf_sr = librosa.core.load(\"resources/dtmf.wav\")\n",
        "print(f\"Len is {len(dtmf)}. Sample rate is {dtmf_sr}\")\n",
        "player = ipd.Audio(dtmf, rate=dtmf_sr)\n",
        "ipd.display(player)\n",
        "draw_waveform(dtmf, sr=dtmf_sr)"
      ],
      "execution_count": null,
      "outputs": []
    },
    {
      "cell_type": "code",
      "metadata": {
        "id": "gV9b0moCgeRE"
      },
      "source": [
        "# YOUR CODE HERE\n",
        "# phone_number = [first: int, second: int, third: int]\n"
      ],
      "execution_count": null,
      "outputs": []
    },
    {
      "cell_type": "code",
      "metadata": {
        "id": "_c2wqQ8AgeRE"
      },
      "source": [
        "assert type(phone_number) == list or type(phone_number) == np.ndarray, \\\n",
        "        f\"Wrong answer type. Expected list or numpy array. Got {type(phone_number)}\"\n",
        "assert len(phone_number) == 3, \\\n",
        "        f\"Wrong len {len(phone_number)}.\"\n",
        "assert round(np.mean(phone_number)) == 5 and round(np.var(phone_number)) == 11 , \\\n",
        "        f\"Wrong number\"\n",
        "assert hashlib.md5(''.join(map(str, phone_number)).encode()).hexdigest() == \"140f6969d5213fd0ece03148e62e461e\", \\\n",
        "        f\"Wrong hash. How did you pass mean/var test?\"\n",
        "print(\"Correct!\")   "
      ],
      "execution_count": null,
      "outputs": []
    }
  ]
}