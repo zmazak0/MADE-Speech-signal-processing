{
  "nbformat": 4,
  "nbformat_minor": 0,
  "metadata": {
    "kernelspec": {
      "display_name": "Python 3",
      "language": "python",
      "name": "python3"
    },
    "language_info": {
      "codemirror_mode": {
        "name": "ipython",
        "version": 3
      },
      "file_extension": ".py",
      "mimetype": "text/x-python",
      "name": "python",
      "nbconvert_exporter": "python",
      "pygments_lexer": "ipython3",
      "version": "3.7.7"
    },
    "colab": {
      "name": "Мартиросян Завен \"lab3.ipynb\"",
      "provenance": []
    }
  },
  "cells": [
    {
      "cell_type": "markdown",
      "metadata": {
        "id": "CwXJY_y6_Ci7"
      },
      "source": [
        "# <center> Практические задания по цифровой обработке сигналов </center>\n",
        "# <center> Третья лабораторная работа </center>\n",
        "# <center> Фильтры </center>\n",
        "В данной работе вы познакомитесь с понятием фильтра в цифровой обработке сигналов."
      ]
    },
    {
      "cell_type": "code",
      "metadata": {
        "id": "lOAHnG1l_Ci9"
      },
      "source": [
        "import numpy as np\n",
        "import matplotlib.pyplot as plt\n",
        "import scipy\n",
        "import scipy.fft\n",
        "import librosa\n",
        "import IPython.display as ipd\n",
        "import librosa.display\n",
        "\n",
        "# Запретим numpy выполнять деление на 0\n",
        "np.seterr(divide='raise', invalid='raise')\n",
        "%matplotlib inline"
      ],
      "execution_count": 1,
      "outputs": []
    },
    {
      "cell_type": "code",
      "metadata": {
        "id": "JtT_aCr3_Ci-"
      },
      "source": [
        "# from Lab2\n",
        "def get_magnitude_from_spec(spec):\n",
        "    return np.absolute(spec)\n",
        "\n",
        "\n",
        "def get_phi_from_spec(spec):\n",
        "    return np.angle(spec)\n",
        "\n",
        "\n",
        "# Функция отрисовки аудио сигнала. \n",
        "def draw_waveform(wav, sr, figsize=(14, 5)):\n",
        "    # Отрисовка звукового сигнала во временной области\n",
        "    plt.figure(figsize=figsize)\n",
        "    librosa.display.waveplot(wav, sr=sr)\n",
        "    plt.show()\n",
        "\n",
        "# Функция отрисовки спектра\n",
        "def draw_spec(spec, name=None, draw_A=True, draw_p=True, figsize=(14, 3)):\n",
        "    if len(spec)<100:\n",
        "        # Рисуем точки как \"леденцы на палочках\"\n",
        "        draw_func = plt.stem\n",
        "    else:\n",
        "        # При большом N \"леденцы\" выглядят плохо, \n",
        "        # Поэтому будем рисовать огибающую функцию\n",
        "        draw_func = plt.plot\n",
        "    \n",
        "    if draw_A:\n",
        "        plt.figure(figsize=figsize)\n",
        "        plt.title(\"Magnitude spectrum\")\n",
        "        spec_A = get_magnitude_from_spec(spec)\n",
        "        draw_func(spec_A)\n",
        "        plt.ylabel(\"Magnitude\")\n",
        "        plt.xlabel(\"n\")\n",
        "        if name is not None:\n",
        "            plt.legend([name])\n",
        "        plt.show()\n",
        "        \n",
        "    if draw_p:\n",
        "        plt.figure(figsize=figsize)\n",
        "        plt.title(\"Phase spectrum\")\n",
        "        phi = get_phi_from_spec(spec)\n",
        "        draw_func(phi)\n",
        "        plt.ylabel(\"Radian\")\n",
        "        plt.xlabel(\"n\")\n",
        "        if name is not None:\n",
        "            plt.legend([name])\n",
        "        plt.show()\n",
        "    return \n"
      ],
      "execution_count": 2,
      "outputs": []
    },
    {
      "cell_type": "markdown",
      "metadata": {
        "id": "t7bVaQFV_Ci_"
      },
      "source": [
        "----------------------------------------------\n",
        "## Теория\n",
        "Цифровой фильтр \\([wiki](https://ru.wikipedia.org/wiki/Цифровой_фильтр)\\) —  любой фильтр, обрабатывающий цифровой сигнал с целью выделения и/или подавления определённых частот этого сигнала.\n",
        "Цифровые фильтры применяются практическе везде, где требуется обработка цифровых сигналов (при работе со звуком, картинками, видео и т.д.)\n",
        "\n",
        "Основными характеристиками стационарных линейных дискретных фильтров являются:\n",
        "\n",
        "* Импульсная характеристика \n",
        "* Переходная характеристика\n",
        "* Амплитудно-частотная характеристика\n",
        "* Фазо-частотная характеристика\n",
        "\n",
        "**Импульсной характеристикой фильтра** называется его реакция на единичный импульс при нулевых начальных условиях. \n",
        "\n",
        "**Переходной характеристикой фильтра** называется его реакция на воздействие в форме единичной функции. \n",
        "\n",
        "**Амплитудно-частотной характеристикой фильтра (АЧХ)** называется зависимость амплитуды установившихся колебаний выходного сигнала от частоты её входного гармонического сигнала. Другими словами, АЧХ показывает, как влияет фильтр на амплитуду разных частот входного сигнала. \n",
        "\n",
        "**Фазо-частотной характеристикой фильтра (ФЧХ)** называется зависимость фазы установившихся колебаний выходного сигнала от частоты её входного гармонического сигнала. Аналогична АЧХ, только показывает влияние на фазу сигнала.\n",
        "\n",
        "В данной работе мы будем рассматривать два линейных инвариантных к сдвигу фильтра: фильтр с конечной импульсной характеристикой (КИХ-фильтр) и фильтр с бесконечной импульсной характеристикой (БИХ-фильтр).\n",
        "### КИХ-фильтры\n",
        "Определение с [вики](https://ru.wikipedia.org/wiki/%D0%A4%D0%B8%D0%BB%D1%8C%D1%82%D1%80_%D1%81_%D0%BA%D0%BE%D0%BD%D0%B5%D1%87%D0%BD%D0%BE%D0%B9_%D0%B8%D0%BC%D0%BF%D1%83%D0%BB%D1%8C%D1%81%D0%BD%D0%BE%D0%B9_%D1%85%D0%B0%D1%80%D0%B0%D0%BA%D1%82%D0%B5%D1%80%D0%B8%D1%81%D1%82%D0%B8%D0%BA%D0%BE%D0%B9) :\n",
        "> Фильтр с конечной импульсной характеристикой (Нерекурсивный фильтр, КИХ-фильтр) или FIR-фильтр (FIR сокр. от finite impulse response — конечная импульсная характеристика) — один из видов линейных цифровых фильтров, характерной особенностью которого является ограниченность по времени его импульсной характеристики (с какого-то момента времени она становится точно равной нулю). Такой фильтр называют ещё нерекурсивным из-за отсутствия обратной связи. Знаменатель передаточной функции такого фильтра — константа.\n",
        "\n",
        "![resources/fir.png](resources/fir.png)\n",
        "\n",
        "\n",
        "### БИХ-фильтры\n",
        "Определение с [вики](https://ru.wikipedia.org/wiki/%D0%A4%D0%B8%D0%BB%D1%8C%D1%82%D1%80_%D1%81_%D0%B1%D0%B5%D1%81%D0%BA%D0%BE%D0%BD%D0%B5%D1%87%D0%BD%D0%BE%D0%B9_%D0%B8%D0%BC%D0%BF%D1%83%D0%BB%D1%8C%D1%81%D0%BD%D0%BE%D0%B9_%D1%85%D0%B0%D1%80%D0%B0%D0%BA%D1%82%D0%B5%D1%80%D0%B8%D1%81%D1%82%D0%B8%D0%BA%D0%BE%D0%B9) :\n",
        "> Фильтр с бесконечной импульсной характеристикой (Рекурсивный фильтр, БИХ-фильтр) или IIR-фильтр (IIR сокр. от infinite impulse response — бесконечная импульсная характеристика) — линейный электронный фильтр, использующий один или более своих выходов в качестве входа, то есть образующий обратную связь. Основным свойством таких фильтров является то, что их импульсная переходная характеристика имеет бесконечную длину во временной области, а передаточная функция имеет дробно-рациональный вид. Такие фильтры могут быть как аналоговыми, так и цифровыми.\n",
        "\n",
        "![resources/iir.png](resources/iir.png)\n",
        "\n",
        "----------------------------"
      ]
    },
    {
      "cell_type": "markdown",
      "metadata": {
        "id": "jfbNjNoh_CjA"
      },
      "source": [
        "# Задание 1 (2 балла)\n",
        "Реализуйте КИХ-фильтр и БИХ-фильтр"
      ]
    },
    {
      "cell_type": "code",
      "metadata": {
        "id": "VrP6fhm8_CjA"
      },
      "source": [
        "# Определяем фильтры\n",
        "def FIR_filter(x, alpha_prev=0.5, alpha_curr=0.5):\n",
        "    # alpha_prev - weight for previous frame\n",
        "    # alpha_curr - weight for current frame\n",
        "    return np.convolve(x, np.array([alpha_curr, alpha_prev]))[:-1]\n",
        "\n",
        "def IIR_filter(x, alpha=0.5):\n",
        "    # alpha - weight for reccurent connection\n",
        "    y = np.zeros_like(x)\n",
        "    t = 0.0\n",
        "    for i in range(y.shape[0]):\n",
        "      y[i] += t * (alpha) + x[i]\n",
        "      t = y[i]\n",
        "    return y\n"
      ],
      "execution_count": 3,
      "outputs": []
    },
    {
      "cell_type": "code",
      "metadata": {
        "id": "qwTe7hxj_CjB",
        "colab": {
          "base_uri": "https://localhost:8080/"
        },
        "outputId": "2f7fe790-bc55-41e2-e69f-0838e0968009"
      },
      "source": [
        "def test_filters():\n",
        "    x = np.ones(10)\n",
        "    y = FIR_filter(x)\n",
        "    assert y[0] == 0.5 and (y[1:] == 1).all(), \\\n",
        "        RuntimeError(f\"bad FIR. x={x}. y={y}\")\n",
        "    y = FIR_filter(x, alpha_prev=0.1, alpha_curr=0.9)\n",
        "    assert y[0] == 0.9 and (y[1:] == 1).all(), \\\n",
        "        RuntimeError(f\"bad FIR(alphas 0.1 and 0.9). x={x}. y={y}\")\n",
        "    y = IIR_filter(x)\n",
        "    assert y[0]==1 and (y[3:].round() == 2).all() and (y<2).all(), \\\n",
        "        RuntimeError(f\"Bad IIR. x={x}. y={y}\")\n",
        "    y = IIR_filter(x, 0.2)\n",
        "    assert y[0]==1 and (y[3:].round(2) ==1.25).all() and (y<1.25).all(), \\\n",
        "        RuntimeError(f\"Bad IIR(alpha={0.2}. x={x}. y={y}\")\n",
        "    print(\"All Ok!\")\n",
        "\n",
        "test_filters()"
      ],
      "execution_count": 4,
      "outputs": [
        {
          "output_type": "stream",
          "text": [
            "All Ok!\n"
          ],
          "name": "stdout"
        }
      ]
    },
    {
      "cell_type": "markdown",
      "metadata": {
        "id": "OcbZk1T-_CjB"
      },
      "source": [
        "# Импульсная и переходная характеристики\n",
        "# Задание 2 (1 балл)\n",
        "Определите единичный импульс длиной 20 отсчетов (переменная impulse). <br>\n",
        "Получите импульсную характеристику фильтров."
      ]
    },
    {
      "cell_type": "code",
      "metadata": {
        "id": "vBPy9pde_CjC",
        "colab": {
          "base_uri": "https://localhost:8080/",
          "height": 347
        },
        "outputId": "ffee4f51-6cbb-4cb8-8e31-55a05e802e7a"
      },
      "source": [
        "print(\"Импульсная характеристика фильтров с aplha=0.5:\")\n",
        "\n",
        "# Получите импульсную характеристику FIR_filter и IIR_filter\n",
        "# YOUR CODE HERE\n",
        "#\n",
        "length = 20\n",
        "T = 10\n",
        "impulse = np.zeros(length + T)\n",
        "impulse[T] = 1\n",
        "fir_impulse_response = FIR_filter(impulse)\n",
        "iir_impulse_response = IIR_filter(impulse)\n",
        "#\n",
        "\n",
        "plt.figure(figsize=(8,2))\n",
        "plt.title(\"КИХ-фильтр:\")\n",
        "plt.plot(impulse, 'o-')\n",
        "plt.plot(fir_impulse_response, '.-')\n",
        "plt.legend(['импульс', 'фильтр'])\n",
        "plt.axis([-0.1, len(impulse), -0.1, 1.2])\n",
        "plt.show()\n",
        "\n",
        "plt.figure(figsize=(8,2))\n",
        "plt.title(\"БИХ-фильтр:\")\n",
        "plt.plot(impulse, 'o-')\n",
        "plt.plot(iir_impulse_response, '.-')\n",
        "plt.legend(['импульс', 'фильтр'])\n",
        "plt.axis([-0.1, len(impulse), -0.1, 1.2])\n",
        "plt.show()\n",
        "\n",
        "impulse = impulse[T:]\n",
        "fir_impulse_response = fir_impulse_response[T:]\n",
        "iir_impulse_response = iir_impulse_response[T:]"
      ],
      "execution_count": 5,
      "outputs": [
        {
          "output_type": "stream",
          "text": [
            "Импульсная характеристика фильтров с aplha=0.5:\n"
          ],
          "name": "stdout"
        },
        {
          "output_type": "display_data",
          "data": {
            "image/png": "[encoded data removed]",
            "text/plain": [
              "<Figure size 576x144 with 1 Axes>"
            ]
          },
          "metadata": {
            "tags": [],
            "needs_background": "light"
          }
        },
        {
          "output_type": "display_data",
          "data": {
            "image/png": "[encoded data removed]",
            "text/plain": [
              "<Figure size 576x144 with 1 Axes>"
            ]
          },
          "metadata": {
            "tags": [],
            "needs_background": "light"
          }
        }
      ]
    },
    {
      "cell_type": "code",
      "metadata": {
        "id": "cQnZnZDN_CjC",
        "colab": {
          "base_uri": "https://localhost:8080/"
        },
        "outputId": "f24cdbc4-04b0-438c-9ed6-53c31fc2b790"
      },
      "source": [
        "assert impulse.shape[0] == 20, \"Bad impulse shape\"\n",
        "assert (fir_impulse_response[0:2] == 0.5).all() and \\\n",
        "        (fir_impulse_response[2:] == 0).all(), \"Bad FIR.\"\n",
        "assert iir_impulse_response.sum().round() == 2 and \\\n",
        "        iir_impulse_response.sum() < 2 and \\\n",
        "        (iir_impulse_response != 0).all(), \"Bad IIR.\"\n",
        "assert iir_impulse_response[1:].sum().round() == 1 and \\\n",
        "        iir_impulse_response[1:].sum()<1 and \\\n",
        "        iir_impulse_response[2:].sum() < 0.5, \"Bad IIR.\"\n",
        "print(\"All ok!\")"
      ],
      "execution_count": 6,
      "outputs": [
        {
          "output_type": "stream",
          "text": [
            "All ok!\n"
          ],
          "name": "stdout"
        }
      ]
    },
    {
      "cell_type": "markdown",
      "metadata": {
        "id": "xeQlqjlr_CjD"
      },
      "source": [
        "# Задание 3 (1 балл)\n",
        "Определите единичный скачок длиной 20 отсчетов (переменная step). <br>\n",
        "Получите переходную характеристику фильтров."
      ]
    },
    {
      "cell_type": "code",
      "metadata": {
        "id": "JvWKRSBJ_CjD",
        "colab": {
          "base_uri": "https://localhost:8080/",
          "height": 347
        },
        "outputId": "194509f7-b253-42db-ecfe-c8cbed01429d"
      },
      "source": [
        "print(\"Переходная характеристика фильтров с alpha=0.5:\")\n",
        "# Получите переходную характеристику фильтров\n",
        "# YOUR CODE HERE\n",
        "#\n",
        "length = 20\n",
        "T = 10\n",
        "step = np.zeros(length + T)\n",
        "step[T:] += np.ones(length)\n",
        "fir_step_response = FIR_filter(step)\n",
        "iir_step_response = IIR_filter(step)\n",
        "#\n",
        "\n",
        "plt.figure(figsize=(8,2))\n",
        "plt.title(\"КИХ-фильтр:\")\n",
        "plt.plot(step, 'o-')\n",
        "plt.plot(fir_step_response, '.-')\n",
        "plt.axis([-0.1, len(step), 0, 1.2])\n",
        "plt.legend(['скачок', 'фильтр'])\n",
        "\n",
        "plt.show()\n",
        "\n",
        "plt.figure(figsize=(8,2))\n",
        "plt.title(\"БИХ-фильтр:\")\n",
        "plt.plot(step, 'o-')\n",
        "plt.plot(iir_step_response, '.-')\n",
        "plt.axis([-0.1, len(step), 0, 2.2])\n",
        "plt.legend(['скачок', 'фильтр'])\n",
        "plt.show()\n",
        "\n",
        "step = step[T:]\n",
        "fir_step_response = fir_step_response[T:]\n",
        "iir_step_response = iir_step_response[T:]"
      ],
      "execution_count": 7,
      "outputs": [
        {
          "output_type": "stream",
          "text": [
            "Переходная характеристика фильтров с alpha=0.5:\n"
          ],
          "name": "stdout"
        },
        {
          "output_type": "display_data",
          "data": {
            "image/png": "[encoded data removed]",
            "text/plain": [
              "<Figure size 576x144 with 1 Axes>"
            ]
          },
          "metadata": {
            "tags": [],
            "needs_background": "light"
          }
        },
        {
          "output_type": "display_data",
          "data": {
            "image/png": "[encoded data removed]",
            "text/plain": [
              "<Figure size 576x144 with 1 Axes>"
            ]
          },
          "metadata": {
            "tags": [],
            "needs_background": "light"
          }
        }
      ]
    },
    {
      "cell_type": "code",
      "metadata": {
        "id": "7sjur_t3_CjE",
        "colab": {
          "base_uri": "https://localhost:8080/"
        },
        "outputId": "29321dba-9e8a-418f-a01b-2c4837e72113"
      },
      "source": [
        "assert step.shape[0] == 20, \"Bad step shape\"\n",
        "assert fir_step_response[0] == 0.5 and \\\n",
        "        (fir_step_response[1:] == 1).all(), \"Bad FIR.\"\n",
        "assert iir_step_response[0] == 1 and iir_step_response[1] == 1.5 and iir_step_response[2] == 1.75 and \\\n",
        "        iir_step_response.mean().round() == 2 and (iir_step_response < 2).all(), \"Bad IIR.\"\n",
        "print(\"All ok!\")"
      ],
      "execution_count": 8,
      "outputs": [
        {
          "output_type": "stream",
          "text": [
            "All ok!\n"
          ],
          "name": "stdout"
        }
      ]
    },
    {
      "cell_type": "markdown",
      "metadata": {
        "id": "gFonY0Ef_CjE"
      },
      "source": [
        "# Амплитудно-частотная и фазо-частотная характеристики\n",
        "# Задание 4 (1 балл)\n",
        "Получите амплитудно-частотную характеристику фильтров."
      ]
    },
    {
      "cell_type": "code",
      "metadata": {
        "id": "2_fJqwpn_CjE",
        "colab": {
          "base_uri": "https://localhost:8080/",
          "height": 347
        },
        "outputId": "248b9cbb-702a-4edb-c9da-e9f6e9cffd1f"
      },
      "source": [
        "print(\"Амплитудно-частотная характеристика фильтров с alpha=0.5\")\n",
        "\n",
        "# Получить амплитудно-частотную характеристику\n",
        "# YOUR CODE HERE\n",
        "#\n",
        "imp = [1] + np.zeros(19)\n",
        "fir_frequency_response = np.absolute(np.fft.fft(FIR_filter(impulse)))\n",
        "iir_frequency_response = np.absolute(np.fft.fft(IIR_filter(impulse)))\n",
        "fir_len = len(fir_frequency_response)\n",
        "iir_len = len(iir_frequency_response)\n",
        "fir_frequency_response = fir_frequency_response[:fir_len// 2]\n",
        "iir_frequency_response = iir_frequency_response[:fir_len// 2]\n",
        "\n",
        "#\n",
        "\n",
        "\n",
        "plt.figure(figsize=(6,2))\n",
        "plt.title(\"КИХ-фильтр:\")\n",
        "plt.plot(fir_frequency_response, '.-')\n",
        "plt.show()\n",
        "\n",
        "\n",
        "plt.figure(figsize=(6,2))\n",
        "plt.title(\"БИХ-фильтр:\")\n",
        "plt.plot(iir_frequency_response, '.-')\n",
        "plt.show()"
      ],
      "execution_count": 9,
      "outputs": [
        {
          "output_type": "stream",
          "text": [
            "Амплитудно-частотная характеристика фильтров с alpha=0.5\n"
          ],
          "name": "stdout"
        },
        {
          "output_type": "display_data",
          "data": {
            "image/png": "[encoded data removed]",
            "text/plain": [
              "<Figure size 432x144 with 1 Axes>"
            ]
          },
          "metadata": {
            "tags": [],
            "needs_background": "light"
          }
        },
        {
          "output_type": "display_data",
          "data": {
            "image/png": "[encoded data removed]",
            "text/plain": [
              "<Figure size 432x144 with 1 Axes>"
            ]
          },
          "metadata": {
            "tags": [],
            "needs_background": "light"
          }
        }
      ]
    },
    {
      "cell_type": "code",
      "metadata": {
        "id": "nGLjxIQb_CjF",
        "colab": {
          "base_uri": "https://localhost:8080/"
        },
        "outputId": "33eafa29-81ff-4633-acf7-db73e94ba0c1"
      },
      "source": [
        "assert fir_frequency_response.shape[0] == iir_frequency_response.shape[0] == 10, \\\n",
        "    f\"Bad FR shape. Must be N//2.\"\n",
        "_ideal_fir_fr = np.array([1. , 0.98768834, 0.95105652, 0.89100652, 0.80901699,\n",
        "       0.70710678, 0.58778525, 0.4539905 , 0.30901699, 0.15643447])\n",
        "assert np.allclose(fir_frequency_response, _ideal_fir_fr), \\\n",
        "    f\"Bad fir FR. diff is {np.abs(fir_frequency_response - _ideal_fir_fr).sum()}\"\n",
        "_ideal_iir_fr = np.array([1.99999809, 1.82896351, 1.50587408, 1.22885364, 1.03088138,\n",
        "       0.89442634, 0.80089238, 0.73765316, 0.69689865, 0.67403739])\n",
        "assert np.allclose(iir_frequency_response, _ideal_iir_fr), \\\n",
        "    f\"Bad iir FR. diff is {np.abs(iir_frequency_response - _ideal_iir_fr).sum()}\"\n",
        "\n",
        "print(\"All ok!\")"
      ],
      "execution_count": 10,
      "outputs": [
        {
          "output_type": "stream",
          "text": [
            "All ok!\n"
          ],
          "name": "stdout"
        }
      ]
    },
    {
      "cell_type": "markdown",
      "metadata": {
        "id": "sj0vOWgX_CjG"
      },
      "source": [
        "# Задание 5 (1 балл)\n",
        "Получите фазово-частотную характеристику фильтров."
      ]
    },
    {
      "cell_type": "code",
      "metadata": {
        "id": "jSVN5PEm_CjG",
        "colab": {
          "base_uri": "https://localhost:8080/",
          "height": 329
        },
        "outputId": "589ecf8e-0639-40f6-daef-c19a08b8263b"
      },
      "source": [
        "#\n",
        "impulse = np.zeros(20, dtype=np.float)\n",
        "impulse[0] = 1\n",
        "fir_phase_response = np.angle(np.fft.fft(FIR_filter(impulse)))\n",
        "iir_phase_response = np.angle(np.fft.fft(IIR_filter(impulse)))\n",
        "fir_len = len(fir_phase_response)\n",
        "iir_len = len(iir_phase_response)\n",
        "fir_phase_response = fir_phase_response[:fir_len // 2]\n",
        "iir_phase_response = iir_phase_response[:iir_len // 2]\n",
        "#\n",
        "\n",
        "\n",
        "plt.figure(figsize=(6,2))\n",
        "plt.title(\"КИХ-фильтр:\")\n",
        "plt.plot(fir_phase_response, '.-')\n",
        "plt.show()\n",
        "\n",
        "plt.figure(figsize=(6,2))\n",
        "plt.title(\"БИХ-фильтр:\")\n",
        "plt.plot(iir_phase_response, '.-')\n",
        "plt.show()\n"
      ],
      "execution_count": 11,
      "outputs": [
        {
          "output_type": "display_data",
          "data": {
            "image/png": "[encoded data removed]",
            "text/plain": [
              "<Figure size 432x144 with 1 Axes>"
            ]
          },
          "metadata": {
            "tags": [],
            "needs_background": "light"
          }
        },
        {
          "output_type": "display_data",
          "data": {
            "image/png": "[encoded data removed]",
            "text/plain": [
              "<Figure size 432x144 with 1 Axes>"
            ]
          },
          "metadata": {
            "tags": [],
            "needs_background": "light"
          }
        }
      ]
    },
    {
      "cell_type": "code",
      "metadata": {
        "id": "1E0X3A1w_CjG",
        "colab": {
          "base_uri": "https://localhost:8080/"
        },
        "outputId": "ddb228e1-8f57-4ccb-92a4-074189d48379"
      },
      "source": [
        "assert fir_phase_response.shape[0] == iir_phase_response.shape[0] == 10, \\\n",
        "    f\"Bad PR shape. Must be N//2.\"\n",
        "_ideal_fir_pr = np.array([-0.        , -0.15707963, -0.31415927, -0.4712389 , -0.62831853,\n",
        "       -0.78539816, -0.9424778 , -1.09955743, -1.25663706, -1.41371669])\n",
        "assert np.allclose(fir_phase_response, _ideal_fir_pr), \\\n",
        "    f\"Bad fir PR. diff is {np.abs(fir_phase_response - _ideal_fir_pr).sum()}\"\n",
        "_ideal_iir_pr = np.array([-0.        , -0.28649379, -0.45845783, -0.52023287, -0.51233491,\n",
        "       -0.46364761, -0.39071251, -0.30300249, -0.20627323, -0.10433379])\n",
        "assert np.allclose(iir_phase_response, _ideal_iir_pr), \\\n",
        "    f\"Bad iir PR. diff is {np.abs(iir_phase_response - _ideal_iir_pr).sum()}\"\n",
        "\n",
        "print(\"All ok!\")"
      ],
      "execution_count": 12,
      "outputs": [
        {
          "output_type": "stream",
          "text": [
            "All ok!\n"
          ],
          "name": "stdout"
        }
      ]
    },
    {
      "cell_type": "code",
      "metadata": {
        "id": "DkX3rHAS_CjH"
      },
      "source": [
        ""
      ],
      "execution_count": 12,
      "outputs": []
    }
  ]
}